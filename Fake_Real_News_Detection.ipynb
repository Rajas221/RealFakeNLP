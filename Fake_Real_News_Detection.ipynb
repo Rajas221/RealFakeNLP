{
  "nbformat": 4,
  "nbformat_minor": 0,
  "metadata": {
    "colab": {
      "provenance": []
    },
    "kernelspec": {
      "name": "python3",
      "display_name": "Python 3"
    },
    "language_info": {
      "name": "python"
    }
  },
  "cells": [
    {
      "cell_type": "markdown",
      "source": [
        "This is a binary classification model for categorizing Real and Fake news as 0 and 1.\n",
        "The aim is to make a model which can generalize unseen articles accurately."
      ],
      "metadata": {
        "id": "d9quR9oE9vkO"
      }
    },
    {
      "cell_type": "markdown",
      "source": [
        "This data set contains two tables. Real and Fake having 4 columns (title,text,subject and date)\n",
        "The label column needs to be added in order to distinguish fake(1) and real(0)"
      ],
      "metadata": {
        "id": "S6Hl7PyC_J0c"
      }
    },
    {
      "cell_type": "markdown",
      "source": [
        "The date column is irrelevant for the process of classification"
      ],
      "metadata": {
        "id": "xKYCbxgP_u-r"
      }
    },
    {
      "cell_type": "markdown",
      "source": [
        "# Import and Check Dataset"
      ],
      "metadata": {
        "id": "qRHyntWWC-op"
      }
    },
    {
      "cell_type": "code",
      "source": [
        "import pandas as pd"
      ],
      "metadata": {
        "id": "1DZhRIvlAMqD"
      },
      "execution_count": null,
      "outputs": []
    },
    {
      "cell_type": "code",
      "source": [
        "#Load DS\n",
        "fakeds = pd.read_csv('/content/Fake.csv')\n",
        "realds = pd.read_csv('/content/True.csv')"
      ],
      "metadata": {
        "id": "P57D7kW9AOo6"
      },
      "execution_count": null,
      "outputs": []
    },
    {
      "cell_type": "code",
      "source": [
        "fakeds['label'] = 1\n",
        "realds['label'] = 0\n",
        "#Label"
      ],
      "metadata": {
        "id": "SlxxG1o5Adhs"
      },
      "execution_count": null,
      "outputs": []
    },
    {
      "cell_type": "code",
      "source": [
        "#Combine the datasets\n",
        "df = pd.concat([fakeds,realds], ignore_index=True)"
      ],
      "metadata": {
        "id": "khvjm6c3Ak8l"
      },
      "execution_count": null,
      "outputs": []
    },
    {
      "cell_type": "code",
      "source": [
        "#Shuffle the dataset for random distribution of fake and real news across training and test sets.\n",
        "df = df.sample(frac=1, random_state=42).reset_index(drop=True)"
      ],
      "metadata": {
        "id": "fSDluE6jBMsQ"
      },
      "execution_count": null,
      "outputs": []
    },
    {
      "cell_type": "code",
      "source": [
        "print(\"Dataset Shape : \", df.shape)\n",
        "print(\"Columns : \", df.columns.tolist())\n",
        "print(\"\\nClass Distribution:\\n\", df['label'].value_counts())"
      ],
      "metadata": {
        "colab": {
          "base_uri": "https://localhost:8080/"
        },
        "id": "keZGpksmBjHh",
        "outputId": "0f48ecd5-8034-4a90-81ef-d6dcff0a6c2f"
      },
      "execution_count": null,
      "outputs": [
        {
          "output_type": "stream",
          "name": "stdout",
          "text": [
            "Dataset Shape :  (44898, 5)\n",
            "Columns :  ['title', 'text', 'subject', 'date', 'label']\n",
            "\n",
            "Class Distribution:\n",
            " label\n",
            "1    23481\n",
            "0    21417\n",
            "Name: count, dtype: int64\n"
          ]
        }
      ]
    },
    {
      "cell_type": "code",
      "source": [
        "#Check for missing values\n",
        "print(\"\\nMissing values:\\n\", df.isnull().sum())\n",
        "#Check for Duplicates\n",
        "print(\"\\nDuplicate entries:\", df.duplicated().sum())"
      ],
      "metadata": {
        "colab": {
          "base_uri": "https://localhost:8080/"
        },
        "id": "IaZBJsQYCG8D",
        "outputId": "994c004d-a529-4beb-d2b6-0f5388713bca"
      },
      "execution_count": null,
      "outputs": [
        {
          "output_type": "stream",
          "name": "stdout",
          "text": [
            "\n",
            "Missing values:\n",
            " title      0\n",
            "text       0\n",
            "subject    0\n",
            "date       0\n",
            "label      0\n",
            "dtype: int64\n",
            "\n",
            "Duplicate entries: 209\n"
          ]
        }
      ]
    },
    {
      "cell_type": "code",
      "source": [
        "df.drop_duplicates(inplace=True)"
      ],
      "metadata": {
        "id": "sHDRj6-8Cf_E"
      },
      "execution_count": null,
      "outputs": []
    },
    {
      "cell_type": "code",
      "source": [
        "print(\"\\nDuplicate entries:\", df.duplicated().sum())"
      ],
      "metadata": {
        "colab": {
          "base_uri": "https://localhost:8080/"
        },
        "id": "lxld4csiCtoF",
        "outputId": "6e7edcd1-e644-48c6-dcab-fad05cf1cc25"
      },
      "execution_count": null,
      "outputs": [
        {
          "output_type": "stream",
          "name": "stdout",
          "text": [
            "\n",
            "Duplicate entries: 0\n"
          ]
        }
      ]
    },
    {
      "cell_type": "code",
      "source": [
        "print(\"\\nSample rows:\\n\", df[['title', 'text', 'label']].head())"
      ],
      "metadata": {
        "colab": {
          "base_uri": "https://localhost:8080/"
        },
        "id": "zjUCR78YCTBf",
        "outputId": "7a6bcf67-c9cc-41c1-df7a-1f230de888ac"
      },
      "execution_count": null,
      "outputs": [
        {
          "output_type": "stream",
          "name": "stdout",
          "text": [
            "\n",
            "Sample rows:\n",
            "                                                title  \\\n",
            "0  Ben Stein Calls Out 9th Circuit Court: Committ...   \n",
            "1  Trump drops Steve Bannon from National Securit...   \n",
            "2  Puerto Rico expects U.S. to lift Jones Act shi...   \n",
            "3   OOPS: Trump Just Accidentally Confirmed He Le...   \n",
            "4  Donald Trump heads for Scotland to reopen a go...   \n",
            "\n",
            "                                                text  label  \n",
            "0  21st Century Wire says Ben Stein, reputable pr...      1  \n",
            "1  WASHINGTON (Reuters) - U.S. President Donald T...      0  \n",
            "2  (Reuters) - Puerto Rico Governor Ricardo Rosse...      0  \n",
            "3  On Monday, Donald Trump once again embarrassed...      1  \n",
            "4  GLASGOW, Scotland (Reuters) - Most U.S. presid...      0  \n"
          ]
        }
      ]
    },
    {
      "cell_type": "markdown",
      "source": [
        "# Text Preprocessing"
      ],
      "metadata": {
        "id": "j-ysDFyoC4Qb"
      }
    },
    {
      "cell_type": "code",
      "source": [
        "import nltk\n",
        "import string\n",
        "import re\n",
        "from nltk.corpus import stopwords\n",
        "from nltk.stem import WordNetLemmatizer"
      ],
      "metadata": {
        "id": "gr0klafKC9Tf"
      },
      "execution_count": null,
      "outputs": []
    },
    {
      "cell_type": "code",
      "source": [
        "#Download NLTK resources\n",
        "nltk.download('punkt')\n",
        "nltk.download('stopwords')\n",
        "nltk.download('wordnet')\n",
        "nltk.download('punkt_tab')\n",
        "#Initialize tools\n",
        "stop_words = set(stopwords.words('english'))\n",
        "lemmatizer = WordNetLemmatizer()\n"
      ],
      "metadata": {
        "colab": {
          "base_uri": "https://localhost:8080/"
        },
        "id": "cEUBrrGwE74Z",
        "outputId": "cf969ecf-a461-4175-a3d3-87bfabcc18ca"
      },
      "execution_count": null,
      "outputs": [
        {
          "output_type": "stream",
          "name": "stderr",
          "text": [
            "[nltk_data] Downloading package punkt to /root/nltk_data...\n",
            "[nltk_data]   Unzipping tokenizers/punkt.zip.\n",
            "[nltk_data] Downloading package stopwords to /root/nltk_data...\n",
            "[nltk_data]   Unzipping corpora/stopwords.zip.\n",
            "[nltk_data] Downloading package wordnet to /root/nltk_data...\n",
            "[nltk_data] Downloading package punkt_tab to /root/nltk_data...\n",
            "[nltk_data]   Unzipping tokenizers/punkt_tab.zip.\n"
          ]
        }
      ]
    },
    {
      "cell_type": "code",
      "source": [
        "#Combine title and text\n",
        "df['content'] = df['title'] + ' ' + df['text']"
      ],
      "metadata": {
        "id": "UfgO4yC4FM5y"
      },
      "execution_count": null,
      "outputs": []
    },
    {
      "cell_type": "code",
      "source": [
        "#Clean Text\n",
        "def preprocess_text(text):\n",
        "  #lowercase everything\n",
        "  text = text.lower()\n",
        "  #Remove URLS\n",
        "  text = re.sub(r'http\\S+|www.\\S+','',text)\n",
        "  #Remove HTML tags\n",
        "  text = re.sub(r'<.*?>', '', text)\n",
        "  #Remove punctuations and digits\n",
        "  text = re.sub(r'[^a-z\\s]', '', text)\n",
        "  #Tokenize\n",
        "  tokens = nltk.word_tokenize(text)\n",
        "  #Remove stop words and lemmatize\n",
        "  clean_tokens = [lemmatizer.lemmatize(word)\n",
        "                  for word in tokens\n",
        "                  if word not in stop_words]\n",
        "  return ' '.join(clean_tokens)\n",
        "  #Returns cleaned lemmatized tokens into a single string with spaces"
      ],
      "metadata": {
        "id": "t0Az6XoYF62o"
      },
      "execution_count": null,
      "outputs": []
    },
    {
      "cell_type": "code",
      "source": [
        "#Apply cleaning to dataset\n",
        "df['Clean_Content']= df['content'].apply(preprocess_text)"
      ],
      "metadata": {
        "id": "2Su-jLakNtLR"
      },
      "execution_count": null,
      "outputs": []
    },
    {
      "cell_type": "code",
      "source": [
        "print(df[['content','Clean_Content']].sample(3))"
      ],
      "metadata": {
        "colab": {
          "base_uri": "https://localhost:8080/"
        },
        "id": "QxV3ZZnePvBR",
        "outputId": "9bda28d4-ecc5-4c2f-b521-6e888cbd823c"
      },
      "execution_count": null,
      "outputs": [
        {
          "output_type": "stream",
          "name": "stdout",
          "text": [
            "                                                 content  \\\n",
            "31231  Sanders' TPP stance shot down by Democrats' pl...   \n",
            "289    Italy government wins all five confidence vote...   \n",
            "225    In U.S. presidential first, Trump prays at Jer...   \n",
            "\n",
            "                                           Clean_Content  \n",
            "31231  sander tpp stance shot democrat platform commi...  \n",
            "289    italy government win five confidence vote elec...  \n",
            "225    u presidential first trump prays jerusalem wes...  \n"
          ]
        }
      ]
    },
    {
      "cell_type": "markdown",
      "source": [
        "# Feature Extraction"
      ],
      "metadata": {
        "id": "-y9nlpZqQCdC"
      }
    },
    {
      "cell_type": "markdown",
      "source": [
        "Transform preprocessed text into numerical feature vectors using\n",
        "1) Bag of Words - Counts word occurences\n",
        "2) TF-IDF (Term Frequency- Inverse Document Frequency) - Emphasized unique, informative words\n",
        "\n",
        "Here we are using TF-IDF as it highlights more meaningful terms and penalizes overused and common words"
      ],
      "metadata": {
        "id": "70ymVBmPQL2i"
      }
    },
    {
      "cell_type": "markdown",
      "source": [
        "1) Term Frequency - How oftem a word appears in a document\n",
        "2) Inverse Document Frequency - Measures how rare a word is accross documents (Common words get lower score and rare words get higher score)"
      ],
      "metadata": {
        "id": "SBJFvi6_TsDe"
      }
    },
    {
      "cell_type": "code",
      "source": [
        "from sklearn.feature_extraction.text import TfidfVectorizer\n",
        "from sklearn.model_selection import train_test_split"
      ],
      "metadata": {
        "id": "THpShNLzQsL4"
      },
      "execution_count": null,
      "outputs": []
    },
    {
      "cell_type": "code",
      "source": [
        "#Initialize TF-IDF Vectorizer\n",
        "tfidf = TfidfVectorizer(max_features=8000)"
      ],
      "metadata": {
        "id": "BUsTWsnEjeTg"
      },
      "execution_count": null,
      "outputs": []
    },
    {
      "cell_type": "code",
      "source": [
        "X = tfidf.fit_transform(df['Clean_Content'])\n",
        "#X will be a sparse matrix of shape (num_articles, num_words)"
      ],
      "metadata": {
        "id": "NLRE2eJwjp4I"
      },
      "execution_count": null,
      "outputs": []
    },
    {
      "cell_type": "code",
      "source": [
        "y = df['label']\n",
        "#Contains the labels 0 for real 1 for fake"
      ],
      "metadata": {
        "id": "K_HVJZiQ29Rt"
      },
      "execution_count": null,
      "outputs": []
    },
    {
      "cell_type": "code",
      "source": [
        "#Training and testing split\n",
        "X_train, X_test, y_train, y_test = train_test_split(X, y, test_size=0.2, random_state=42, stratify=y)\n",
        "#stratify=y: ensures both fake and real news are evenly distributed in train and test sets"
      ],
      "metadata": {
        "id": "1XReh8Sm3IXk"
      },
      "execution_count": null,
      "outputs": []
    },
    {
      "cell_type": "markdown",
      "source": [
        "# Training a classifier"
      ],
      "metadata": {
        "id": "3sdC0vZ_4VIx"
      }
    },
    {
      "cell_type": "markdown",
      "source": [
        "### Logistic Regression (Baseline)"
      ],
      "metadata": {
        "id": "PMATO9-W49WL"
      }
    },
    {
      "cell_type": "code",
      "source": [
        "from sklearn.linear_model import LogisticRegression\n",
        "from sklearn.metrics import classification_report, confusion_matrix, accuracy_score"
      ],
      "metadata": {
        "id": "E8Z2y19G5C2Z"
      },
      "execution_count": null,
      "outputs": []
    },
    {
      "cell_type": "code",
      "source": [
        "model = LogisticRegression()\n",
        "model.fit(X_train, y_train)"
      ],
      "metadata": {
        "colab": {
          "base_uri": "https://localhost:8080/",
          "height": 57
        },
        "id": "o8VWDh1C5k67",
        "outputId": "a3a2b4b3-bc18-4f16-b112-abdf276d1797"
      },
      "execution_count": null,
      "outputs": [
        {
          "output_type": "execute_result",
          "data": {
            "text/plain": [
              "LogisticRegression()"
            ],
            "text/html": [
              "<style>#sk-container-id-1 {\n",
              "  /* Definition of color scheme common for light and dark mode */\n",
              "  --sklearn-color-text: #000;\n",
              "  --sklearn-color-text-muted: #666;\n",
              "  --sklearn-color-line: gray;\n",
              "  /* Definition of color scheme for unfitted estimators */\n",
              "  --sklearn-color-unfitted-level-0: #fff5e6;\n",
              "  --sklearn-color-unfitted-level-1: #f6e4d2;\n",
              "  --sklearn-color-unfitted-level-2: #ffe0b3;\n",
              "  --sklearn-color-unfitted-level-3: chocolate;\n",
              "  /* Definition of color scheme for fitted estimators */\n",
              "  --sklearn-color-fitted-level-0: #f0f8ff;\n",
              "  --sklearn-color-fitted-level-1: #d4ebff;\n",
              "  --sklearn-color-fitted-level-2: #b3dbfd;\n",
              "  --sklearn-color-fitted-level-3: cornflowerblue;\n",
              "\n",
              "  /* Specific color for light theme */\n",
              "  --sklearn-color-text-on-default-background: var(--sg-text-color, var(--theme-code-foreground, var(--jp-content-font-color1, black)));\n",
              "  --sklearn-color-background: var(--sg-background-color, var(--theme-background, var(--jp-layout-color0, white)));\n",
              "  --sklearn-color-border-box: var(--sg-text-color, var(--theme-code-foreground, var(--jp-content-font-color1, black)));\n",
              "  --sklearn-color-icon: #696969;\n",
              "\n",
              "  @media (prefers-color-scheme: dark) {\n",
              "    /* Redefinition of color scheme for dark theme */\n",
              "    --sklearn-color-text-on-default-background: var(--sg-text-color, var(--theme-code-foreground, var(--jp-content-font-color1, white)));\n",
              "    --sklearn-color-background: var(--sg-background-color, var(--theme-background, var(--jp-layout-color0, #111)));\n",
              "    --sklearn-color-border-box: var(--sg-text-color, var(--theme-code-foreground, var(--jp-content-font-color1, white)));\n",
              "    --sklearn-color-icon: #878787;\n",
              "  }\n",
              "}\n",
              "\n",
              "#sk-container-id-1 {\n",
              "  color: var(--sklearn-color-text);\n",
              "}\n",
              "\n",
              "#sk-container-id-1 pre {\n",
              "  padding: 0;\n",
              "}\n",
              "\n",
              "#sk-container-id-1 input.sk-hidden--visually {\n",
              "  border: 0;\n",
              "  clip: rect(1px 1px 1px 1px);\n",
              "  clip: rect(1px, 1px, 1px, 1px);\n",
              "  height: 1px;\n",
              "  margin: -1px;\n",
              "  overflow: hidden;\n",
              "  padding: 0;\n",
              "  position: absolute;\n",
              "  width: 1px;\n",
              "}\n",
              "\n",
              "#sk-container-id-1 div.sk-dashed-wrapped {\n",
              "  border: 1px dashed var(--sklearn-color-line);\n",
              "  margin: 0 0.4em 0.5em 0.4em;\n",
              "  box-sizing: border-box;\n",
              "  padding-bottom: 0.4em;\n",
              "  background-color: var(--sklearn-color-background);\n",
              "}\n",
              "\n",
              "#sk-container-id-1 div.sk-container {\n",
              "  /* jupyter's `normalize.less` sets `[hidden] { display: none; }`\n",
              "     but bootstrap.min.css set `[hidden] { display: none !important; }`\n",
              "     so we also need the `!important` here to be able to override the\n",
              "     default hidden behavior on the sphinx rendered scikit-learn.org.\n",
              "     See: https://github.com/scikit-learn/scikit-learn/issues/21755 */\n",
              "  display: inline-block !important;\n",
              "  position: relative;\n",
              "}\n",
              "\n",
              "#sk-container-id-1 div.sk-text-repr-fallback {\n",
              "  display: none;\n",
              "}\n",
              "\n",
              "div.sk-parallel-item,\n",
              "div.sk-serial,\n",
              "div.sk-item {\n",
              "  /* draw centered vertical line to link estimators */\n",
              "  background-image: linear-gradient(var(--sklearn-color-text-on-default-background), var(--sklearn-color-text-on-default-background));\n",
              "  background-size: 2px 100%;\n",
              "  background-repeat: no-repeat;\n",
              "  background-position: center center;\n",
              "}\n",
              "\n",
              "/* Parallel-specific style estimator block */\n",
              "\n",
              "#sk-container-id-1 div.sk-parallel-item::after {\n",
              "  content: \"\";\n",
              "  width: 100%;\n",
              "  border-bottom: 2px solid var(--sklearn-color-text-on-default-background);\n",
              "  flex-grow: 1;\n",
              "}\n",
              "\n",
              "#sk-container-id-1 div.sk-parallel {\n",
              "  display: flex;\n",
              "  align-items: stretch;\n",
              "  justify-content: center;\n",
              "  background-color: var(--sklearn-color-background);\n",
              "  position: relative;\n",
              "}\n",
              "\n",
              "#sk-container-id-1 div.sk-parallel-item {\n",
              "  display: flex;\n",
              "  flex-direction: column;\n",
              "}\n",
              "\n",
              "#sk-container-id-1 div.sk-parallel-item:first-child::after {\n",
              "  align-self: flex-end;\n",
              "  width: 50%;\n",
              "}\n",
              "\n",
              "#sk-container-id-1 div.sk-parallel-item:last-child::after {\n",
              "  align-self: flex-start;\n",
              "  width: 50%;\n",
              "}\n",
              "\n",
              "#sk-container-id-1 div.sk-parallel-item:only-child::after {\n",
              "  width: 0;\n",
              "}\n",
              "\n",
              "/* Serial-specific style estimator block */\n",
              "\n",
              "#sk-container-id-1 div.sk-serial {\n",
              "  display: flex;\n",
              "  flex-direction: column;\n",
              "  align-items: center;\n",
              "  background-color: var(--sklearn-color-background);\n",
              "  padding-right: 1em;\n",
              "  padding-left: 1em;\n",
              "}\n",
              "\n",
              "\n",
              "/* Toggleable style: style used for estimator/Pipeline/ColumnTransformer box that is\n",
              "clickable and can be expanded/collapsed.\n",
              "- Pipeline and ColumnTransformer use this feature and define the default style\n",
              "- Estimators will overwrite some part of the style using the `sk-estimator` class\n",
              "*/\n",
              "\n",
              "/* Pipeline and ColumnTransformer style (default) */\n",
              "\n",
              "#sk-container-id-1 div.sk-toggleable {\n",
              "  /* Default theme specific background. It is overwritten whether we have a\n",
              "  specific estimator or a Pipeline/ColumnTransformer */\n",
              "  background-color: var(--sklearn-color-background);\n",
              "}\n",
              "\n",
              "/* Toggleable label */\n",
              "#sk-container-id-1 label.sk-toggleable__label {\n",
              "  cursor: pointer;\n",
              "  display: flex;\n",
              "  width: 100%;\n",
              "  margin-bottom: 0;\n",
              "  padding: 0.5em;\n",
              "  box-sizing: border-box;\n",
              "  text-align: center;\n",
              "  align-items: start;\n",
              "  justify-content: space-between;\n",
              "  gap: 0.5em;\n",
              "}\n",
              "\n",
              "#sk-container-id-1 label.sk-toggleable__label .caption {\n",
              "  font-size: 0.6rem;\n",
              "  font-weight: lighter;\n",
              "  color: var(--sklearn-color-text-muted);\n",
              "}\n",
              "\n",
              "#sk-container-id-1 label.sk-toggleable__label-arrow:before {\n",
              "  /* Arrow on the left of the label */\n",
              "  content: \"▸\";\n",
              "  float: left;\n",
              "  margin-right: 0.25em;\n",
              "  color: var(--sklearn-color-icon);\n",
              "}\n",
              "\n",
              "#sk-container-id-1 label.sk-toggleable__label-arrow:hover:before {\n",
              "  color: var(--sklearn-color-text);\n",
              "}\n",
              "\n",
              "/* Toggleable content - dropdown */\n",
              "\n",
              "#sk-container-id-1 div.sk-toggleable__content {\n",
              "  max-height: 0;\n",
              "  max-width: 0;\n",
              "  overflow: hidden;\n",
              "  text-align: left;\n",
              "  /* unfitted */\n",
              "  background-color: var(--sklearn-color-unfitted-level-0);\n",
              "}\n",
              "\n",
              "#sk-container-id-1 div.sk-toggleable__content.fitted {\n",
              "  /* fitted */\n",
              "  background-color: var(--sklearn-color-fitted-level-0);\n",
              "}\n",
              "\n",
              "#sk-container-id-1 div.sk-toggleable__content pre {\n",
              "  margin: 0.2em;\n",
              "  border-radius: 0.25em;\n",
              "  color: var(--sklearn-color-text);\n",
              "  /* unfitted */\n",
              "  background-color: var(--sklearn-color-unfitted-level-0);\n",
              "}\n",
              "\n",
              "#sk-container-id-1 div.sk-toggleable__content.fitted pre {\n",
              "  /* unfitted */\n",
              "  background-color: var(--sklearn-color-fitted-level-0);\n",
              "}\n",
              "\n",
              "#sk-container-id-1 input.sk-toggleable__control:checked~div.sk-toggleable__content {\n",
              "  /* Expand drop-down */\n",
              "  max-height: 200px;\n",
              "  max-width: 100%;\n",
              "  overflow: auto;\n",
              "}\n",
              "\n",
              "#sk-container-id-1 input.sk-toggleable__control:checked~label.sk-toggleable__label-arrow:before {\n",
              "  content: \"▾\";\n",
              "}\n",
              "\n",
              "/* Pipeline/ColumnTransformer-specific style */\n",
              "\n",
              "#sk-container-id-1 div.sk-label input.sk-toggleable__control:checked~label.sk-toggleable__label {\n",
              "  color: var(--sklearn-color-text);\n",
              "  background-color: var(--sklearn-color-unfitted-level-2);\n",
              "}\n",
              "\n",
              "#sk-container-id-1 div.sk-label.fitted input.sk-toggleable__control:checked~label.sk-toggleable__label {\n",
              "  background-color: var(--sklearn-color-fitted-level-2);\n",
              "}\n",
              "\n",
              "/* Estimator-specific style */\n",
              "\n",
              "/* Colorize estimator box */\n",
              "#sk-container-id-1 div.sk-estimator input.sk-toggleable__control:checked~label.sk-toggleable__label {\n",
              "  /* unfitted */\n",
              "  background-color: var(--sklearn-color-unfitted-level-2);\n",
              "}\n",
              "\n",
              "#sk-container-id-1 div.sk-estimator.fitted input.sk-toggleable__control:checked~label.sk-toggleable__label {\n",
              "  /* fitted */\n",
              "  background-color: var(--sklearn-color-fitted-level-2);\n",
              "}\n",
              "\n",
              "#sk-container-id-1 div.sk-label label.sk-toggleable__label,\n",
              "#sk-container-id-1 div.sk-label label {\n",
              "  /* The background is the default theme color */\n",
              "  color: var(--sklearn-color-text-on-default-background);\n",
              "}\n",
              "\n",
              "/* On hover, darken the color of the background */\n",
              "#sk-container-id-1 div.sk-label:hover label.sk-toggleable__label {\n",
              "  color: var(--sklearn-color-text);\n",
              "  background-color: var(--sklearn-color-unfitted-level-2);\n",
              "}\n",
              "\n",
              "/* Label box, darken color on hover, fitted */\n",
              "#sk-container-id-1 div.sk-label.fitted:hover label.sk-toggleable__label.fitted {\n",
              "  color: var(--sklearn-color-text);\n",
              "  background-color: var(--sklearn-color-fitted-level-2);\n",
              "}\n",
              "\n",
              "/* Estimator label */\n",
              "\n",
              "#sk-container-id-1 div.sk-label label {\n",
              "  font-family: monospace;\n",
              "  font-weight: bold;\n",
              "  display: inline-block;\n",
              "  line-height: 1.2em;\n",
              "}\n",
              "\n",
              "#sk-container-id-1 div.sk-label-container {\n",
              "  text-align: center;\n",
              "}\n",
              "\n",
              "/* Estimator-specific */\n",
              "#sk-container-id-1 div.sk-estimator {\n",
              "  font-family: monospace;\n",
              "  border: 1px dotted var(--sklearn-color-border-box);\n",
              "  border-radius: 0.25em;\n",
              "  box-sizing: border-box;\n",
              "  margin-bottom: 0.5em;\n",
              "  /* unfitted */\n",
              "  background-color: var(--sklearn-color-unfitted-level-0);\n",
              "}\n",
              "\n",
              "#sk-container-id-1 div.sk-estimator.fitted {\n",
              "  /* fitted */\n",
              "  background-color: var(--sklearn-color-fitted-level-0);\n",
              "}\n",
              "\n",
              "/* on hover */\n",
              "#sk-container-id-1 div.sk-estimator:hover {\n",
              "  /* unfitted */\n",
              "  background-color: var(--sklearn-color-unfitted-level-2);\n",
              "}\n",
              "\n",
              "#sk-container-id-1 div.sk-estimator.fitted:hover {\n",
              "  /* fitted */\n",
              "  background-color: var(--sklearn-color-fitted-level-2);\n",
              "}\n",
              "\n",
              "/* Specification for estimator info (e.g. \"i\" and \"?\") */\n",
              "\n",
              "/* Common style for \"i\" and \"?\" */\n",
              "\n",
              ".sk-estimator-doc-link,\n",
              "a:link.sk-estimator-doc-link,\n",
              "a:visited.sk-estimator-doc-link {\n",
              "  float: right;\n",
              "  font-size: smaller;\n",
              "  line-height: 1em;\n",
              "  font-family: monospace;\n",
              "  background-color: var(--sklearn-color-background);\n",
              "  border-radius: 1em;\n",
              "  height: 1em;\n",
              "  width: 1em;\n",
              "  text-decoration: none !important;\n",
              "  margin-left: 0.5em;\n",
              "  text-align: center;\n",
              "  /* unfitted */\n",
              "  border: var(--sklearn-color-unfitted-level-1) 1pt solid;\n",
              "  color: var(--sklearn-color-unfitted-level-1);\n",
              "}\n",
              "\n",
              ".sk-estimator-doc-link.fitted,\n",
              "a:link.sk-estimator-doc-link.fitted,\n",
              "a:visited.sk-estimator-doc-link.fitted {\n",
              "  /* fitted */\n",
              "  border: var(--sklearn-color-fitted-level-1) 1pt solid;\n",
              "  color: var(--sklearn-color-fitted-level-1);\n",
              "}\n",
              "\n",
              "/* On hover */\n",
              "div.sk-estimator:hover .sk-estimator-doc-link:hover,\n",
              ".sk-estimator-doc-link:hover,\n",
              "div.sk-label-container:hover .sk-estimator-doc-link:hover,\n",
              ".sk-estimator-doc-link:hover {\n",
              "  /* unfitted */\n",
              "  background-color: var(--sklearn-color-unfitted-level-3);\n",
              "  color: var(--sklearn-color-background);\n",
              "  text-decoration: none;\n",
              "}\n",
              "\n",
              "div.sk-estimator.fitted:hover .sk-estimator-doc-link.fitted:hover,\n",
              ".sk-estimator-doc-link.fitted:hover,\n",
              "div.sk-label-container:hover .sk-estimator-doc-link.fitted:hover,\n",
              ".sk-estimator-doc-link.fitted:hover {\n",
              "  /* fitted */\n",
              "  background-color: var(--sklearn-color-fitted-level-3);\n",
              "  color: var(--sklearn-color-background);\n",
              "  text-decoration: none;\n",
              "}\n",
              "\n",
              "/* Span, style for the box shown on hovering the info icon */\n",
              ".sk-estimator-doc-link span {\n",
              "  display: none;\n",
              "  z-index: 9999;\n",
              "  position: relative;\n",
              "  font-weight: normal;\n",
              "  right: .2ex;\n",
              "  padding: .5ex;\n",
              "  margin: .5ex;\n",
              "  width: min-content;\n",
              "  min-width: 20ex;\n",
              "  max-width: 50ex;\n",
              "  color: var(--sklearn-color-text);\n",
              "  box-shadow: 2pt 2pt 4pt #999;\n",
              "  /* unfitted */\n",
              "  background: var(--sklearn-color-unfitted-level-0);\n",
              "  border: .5pt solid var(--sklearn-color-unfitted-level-3);\n",
              "}\n",
              "\n",
              ".sk-estimator-doc-link.fitted span {\n",
              "  /* fitted */\n",
              "  background: var(--sklearn-color-fitted-level-0);\n",
              "  border: var(--sklearn-color-fitted-level-3);\n",
              "}\n",
              "\n",
              ".sk-estimator-doc-link:hover span {\n",
              "  display: block;\n",
              "}\n",
              "\n",
              "/* \"?\"-specific style due to the `<a>` HTML tag */\n",
              "\n",
              "#sk-container-id-1 a.estimator_doc_link {\n",
              "  float: right;\n",
              "  font-size: 1rem;\n",
              "  line-height: 1em;\n",
              "  font-family: monospace;\n",
              "  background-color: var(--sklearn-color-background);\n",
              "  border-radius: 1rem;\n",
              "  height: 1rem;\n",
              "  width: 1rem;\n",
              "  text-decoration: none;\n",
              "  /* unfitted */\n",
              "  color: var(--sklearn-color-unfitted-level-1);\n",
              "  border: var(--sklearn-color-unfitted-level-1) 1pt solid;\n",
              "}\n",
              "\n",
              "#sk-container-id-1 a.estimator_doc_link.fitted {\n",
              "  /* fitted */\n",
              "  border: var(--sklearn-color-fitted-level-1) 1pt solid;\n",
              "  color: var(--sklearn-color-fitted-level-1);\n",
              "}\n",
              "\n",
              "/* On hover */\n",
              "#sk-container-id-1 a.estimator_doc_link:hover {\n",
              "  /* unfitted */\n",
              "  background-color: var(--sklearn-color-unfitted-level-3);\n",
              "  color: var(--sklearn-color-background);\n",
              "  text-decoration: none;\n",
              "}\n",
              "\n",
              "#sk-container-id-1 a.estimator_doc_link.fitted:hover {\n",
              "  /* fitted */\n",
              "  background-color: var(--sklearn-color-fitted-level-3);\n",
              "}\n",
              "</style><div id=\"sk-container-id-1\" class=\"sk-top-container\"><div class=\"sk-text-repr-fallback\"><pre>LogisticRegression()</pre><b>In a Jupyter environment, please rerun this cell to show the HTML representation or trust the notebook. <br />On GitHub, the HTML representation is unable to render, please try loading this page with nbviewer.org.</b></div><div class=\"sk-container\" hidden><div class=\"sk-item\"><div class=\"sk-estimator fitted sk-toggleable\"><input class=\"sk-toggleable__control sk-hidden--visually\" id=\"sk-estimator-id-1\" type=\"checkbox\" checked><label for=\"sk-estimator-id-1\" class=\"sk-toggleable__label fitted sk-toggleable__label-arrow\"><div><div>LogisticRegression</div></div><div><a class=\"sk-estimator-doc-link fitted\" rel=\"noreferrer\" target=\"_blank\" href=\"https://scikit-learn.org/1.6/modules/generated/sklearn.linear_model.LogisticRegression.html\">?<span>Documentation for LogisticRegression</span></a><span class=\"sk-estimator-doc-link fitted\">i<span>Fitted</span></span></div></label><div class=\"sk-toggleable__content fitted\"><pre>LogisticRegression()</pre></div> </div></div></div></div>"
            ]
          },
          "metadata": {},
          "execution_count": 27
        }
      ]
    },
    {
      "cell_type": "code",
      "source": [
        "#Checking training accuracy\n",
        "y_train_pred = model.predict(X_train)\n",
        "print(\"Training Accuracy:\", accuracy_score(y_train, y_train_pred))"
      ],
      "metadata": {
        "colab": {
          "base_uri": "https://localhost:8080/"
        },
        "id": "x-yebh-t64Lp",
        "outputId": "b802c2a9-3922-4423-ee59-29bdf00b1de7"
      },
      "execution_count": null,
      "outputs": [
        {
          "output_type": "stream",
          "name": "stdout",
          "text": [
            "Training Accuracy: 0.9923079074711197\n"
          ]
        }
      ]
    },
    {
      "cell_type": "code",
      "source": [
        "y_pred = model.predict(X_test)"
      ],
      "metadata": {
        "id": "jL6LfNNt5xc3"
      },
      "execution_count": null,
      "outputs": []
    },
    {
      "cell_type": "code",
      "source": [
        "print(\"Accuracy:\", accuracy_score(y_test, y_pred))\n",
        "print(classification_report(y_test, y_pred))\n",
        "print(confusion_matrix(y_test, y_pred))"
      ],
      "metadata": {
        "colab": {
          "base_uri": "https://localhost:8080/"
        },
        "id": "V0WLJBTP53x7",
        "outputId": "4e2d388d-88d9-470e-ab5a-34548e06b0d2"
      },
      "execution_count": null,
      "outputs": [
        {
          "output_type": "stream",
          "name": "stdout",
          "text": [
            "Accuracy: 0.98746923249049\n",
            "              precision    recall  f1-score   support\n",
            "\n",
            "           0       0.98      0.99      0.99      4242\n",
            "           1       0.99      0.99      0.99      4696\n",
            "\n",
            "    accuracy                           0.99      8938\n",
            "   macro avg       0.99      0.99      0.99      8938\n",
            "weighted avg       0.99      0.99      0.99      8938\n",
            "\n",
            "[[4196   46]\n",
            " [  66 4630]]\n"
          ]
        }
      ]
    },
    {
      "cell_type": "markdown",
      "source": [
        "The model has a 98.7% accuracy.  \n",
        "False Positives (46): Real articles predicted as fake.\n",
        "False Negatives (66): Fake articles predicted as real."
      ],
      "metadata": {
        "id": "6eOEbmgI6ZZZ"
      }
    },
    {
      "cell_type": "markdown",
      "source": [
        "There is no overfitting as the training and testing accuracy are extremely close."
      ],
      "metadata": {
        "id": "GS90R4UD6piF"
      }
    },
    {
      "cell_type": "markdown",
      "source": [
        "# Saving the model and vectorizing"
      ],
      "metadata": {
        "id": "qjLEGhN47nUx"
      }
    },
    {
      "cell_type": "code",
      "source": [
        "import joblib"
      ],
      "metadata": {
        "id": "PRiGHoIt7tF4"
      },
      "execution_count": null,
      "outputs": []
    },
    {
      "cell_type": "code",
      "source": [
        "# Save the model\n",
        "joblib.dump(model, 'fake_news_model.pkl')\n",
        "\n",
        "# Save the vectorizer\n",
        "joblib.dump(tfidf, 'tfidf_vectorizer.pkl')"
      ],
      "metadata": {
        "id": "9pUnOCFU70ny",
        "outputId": "338da9d1-2769-4c6b-9046-30bbdfde97d6",
        "colab": {
          "base_uri": "https://localhost:8080/"
        }
      },
      "execution_count": null,
      "outputs": [
        {
          "output_type": "execute_result",
          "data": {
            "text/plain": [
              "['tfidf_vectorizer.pkl']"
            ]
          },
          "metadata": {},
          "execution_count": 34
        }
      ]
    },
    {
      "cell_type": "markdown",
      "source": [
        "# Real Time News Detection\n"
      ],
      "metadata": {
        "id": "YcF9LF8KZSYY"
      }
    },
    {
      "cell_type": "code",
      "source": [
        "import joblib\n",
        "import re\n",
        "import string\n",
        "import nltk\n",
        "from nltk.corpus import stopwords\n",
        "from nltk.stem import WordNetLemmatizer"
      ],
      "metadata": {
        "id": "e5PGg__6ZWn5"
      },
      "execution_count": null,
      "outputs": []
    },
    {
      "cell_type": "code",
      "source": [
        "nltk.download('punkt')\n",
        "nltk.download('stopwords')\n",
        "nltk.download('wordnet')\n",
        "nltk.download('punkt_tab')\n",
        "stop_words = set(stopwords.words('english'))\n",
        "lemmatizer = WordNetLemmatizer()"
      ],
      "metadata": {
        "colab": {
          "base_uri": "https://localhost:8080/"
        },
        "id": "-pg_RXluaEFu",
        "outputId": "4d16b3d9-50cd-4973-bc45-173ecde5daba"
      },
      "execution_count": null,
      "outputs": [
        {
          "output_type": "stream",
          "name": "stderr",
          "text": [
            "[nltk_data] Downloading package punkt to /root/nltk_data...\n",
            "[nltk_data]   Package punkt is already up-to-date!\n",
            "[nltk_data] Downloading package stopwords to /root/nltk_data...\n",
            "[nltk_data]   Package stopwords is already up-to-date!\n",
            "[nltk_data] Downloading package wordnet to /root/nltk_data...\n",
            "[nltk_data]   Package wordnet is already up-to-date!\n",
            "[nltk_data] Downloading package punkt_tab to /root/nltk_data...\n",
            "[nltk_data]   Unzipping tokenizers/punkt_tab.zip.\n"
          ]
        }
      ]
    },
    {
      "cell_type": "code",
      "source": [
        "#PreProcessing for the model\n",
        "def preprocess_text(text):\n",
        "  #lowercase everything\n",
        "  text = text.lower()\n",
        "  #Remove URLS\n",
        "  text = re.sub(r'http\\S+|www.\\S+','',text)\n",
        "  #Remove HTML tags\n",
        "  text = re.sub(r'<.*?>', '', text)\n",
        "  #Remove punctuations and digits\n",
        "  text = re.sub(r'[^a-z\\s]', '', text)\n",
        "  #Tokenize\n",
        "  tokens = nltk.word_tokenize(text)\n",
        "  #Remove stop words and lemmatize\n",
        "  clean_tokens = [lemmatizer.lemmatize(word)\n",
        "                  for word in tokens\n",
        "                  if word not in stop_words]\n",
        "  return ' '.join(clean_tokens)"
      ],
      "metadata": {
        "id": "USeXu8nIZZOH"
      },
      "execution_count": null,
      "outputs": []
    },
    {
      "cell_type": "code",
      "source": [
        "#Load model and vectorizer\n",
        "model = joblib.load('/content/fake_news_model.pkl')\n",
        "vectorizer = joblib.load('/content/tfidf_vectorizer.pkl')"
      ],
      "metadata": {
        "id": "Hl1RlRF7aNkR"
      },
      "execution_count": null,
      "outputs": []
    },
    {
      "source": [
        "#Define Prediction Function\n",
        "def predict_news(news_text):\n",
        "    # Step 1: Preprocess the input\n",
        "    cleaned_text = preprocess_text(news_text) # output of preprocess_text is stored in cleaned_text\n",
        "    # Step 2: Transform with TF-IDF\n",
        "    vector = vectorizer.transform([cleaned_text]) # Pass cleaned_text to vectorizer.transform()\n",
        "    # Step 3: Predict with model\n",
        "    prediction = model.predict(vector)\n",
        "    # Step 4: Return result\n",
        "    if prediction[0] == 0:\n",
        "        return \"Real News 🟢\"\n",
        "    else:\n",
        "        return \"Fake News 🔴\""
      ],
      "cell_type": "code",
      "metadata": {
        "id": "XCLMuw20bwCr"
      },
      "execution_count": null,
      "outputs": []
    },
    {
      "cell_type": "code",
      "source": [
        "#Sample\n",
        "sample = \"NEW YORK (Reuters) - Sweeping U.S. tax legislation appears to be on the verge of approval, lifting the prospects in particular for banks, telecoms, transports and other industries that stand to gain the most from lower corporate tax rates. The Republican-led U.S. House of Representatives hit a last-minute snag on Tuesday in their drive to approve the legislation favored by President Donald Trump. The plan on Capitol Hill was for the Senate to delete three offending provisions in the House version and vote on the bill, then send it back to the House for a vote on Wednesday. The bill slashes the corporate income tax rate to 21 percent from 35 percent. That would boost overall earnings for S&P 500 companies by 9.1 percent, according to UBS equity strategists. For an interactive graphic on how the bill ripples through industries: tmsnrt.rs/2kf26gx Momentum behind the tax bill over the past month has helped propel the stock market, which had already rallied sharply this year, to fresh record highs. The S&P 500 has climbed about 5 percent since mid-November when the House of Representatives passed its tax overhaul bill. But the bill, which also includes a one-time tax on profits held overseas and industry-specific measures, would benefit some stocks, industries and sectors more than others.  The industries that stand to benefit most from the lower rates are telecoms, transportation, retail and banks, analysts said. But for some groups, such as tech and healthcare, the impact is more mixed.  Domestically geared healthcare companies that focus on services are poised to benefit from the lower tax rate. Hospital operator Universal Health Services Inc, lab-testing company Quest Diagnostics Inc and drug wholesaler Cardinal Health Inc are among the service companies set to benefit the most, according to Mizuho Securities. â€œWe believe tax reform should be a significant positive cash flow event, especially for healthcare services companies that tend to have limited international exposure and significant capital expenditures,â€ Mizuho analysts said in a research note. While many large drugmakers already report adjusted tax rates in the low 20 percent range, a number of companies would benefit from the ability to bring back overseas cash, JPMorgan analyst Chris Schott said in a recent note. According to Schott, Pfizer Inc, with $160 billion in offshore earnings, and Merck & Co Inc, with $70 billion, are particularly poised to gain from repatriating overseas funds. Banks are expected to be among the biggest winners from a lower tax rate. The S&P 500 banks index has soared 9 percent since mid-November as the tax bill began moving swiftly through Congress.     Of the major S&P sectors, financials pay the highest effective tax rate at 27.5 percent, according to a Wells Fargo analysis of historical tax rates. Large U.S. banks will see an average 13 percent increase to earnings per share from the lower rate, according to Goldman Sachs analysts, with Wells Fargo & Co and PNC Financial Services Group having the biggest gains. Citizens Financial Group, Regions Financial Corp and M&T Bank Corp would see sizable earnings benefits and are also poised to be relative winners among large bank stocks, UBS analyst Saul Martinez said in a recent note. Banks could benefit indirectly if the tax bill provides an economic boost that spurs increased lending and higher interest rates. The technology sector, which had led the marketâ€™s rally for most of 2017, has underperformed the S&P 500 as the tax bill moved forward in Congress. Tech is expected to benefit less than most other sectors from a drop in the corporate rate, with an earnings boost of 5.3 percent, according to UBS. Semiconductors, whose shares have had a particularly rough ride in the past month, are expected to see earnings drop by 3.3 percent due to the overall bill, according to UBS. â€œMany chip companies have extensive international operations and relatively low blended tax rates,â€ Wells Fargo analysts said in a recent note. â€œWe see the possibility of changes in the U.S. tax rules as a potential risk for such companies.â€ One area where large tech companies could benefit is by spending cash held overseas for uses such as stock buybacks that boost earnings per share. UBS points to Cisco Systems Inc and Qualcomm Inc as companies that could see among the biggest buyback boosts. â€œThe tech sector would certainly be among the largest beneficiaries if cash stashed overseas can be repatriated at a low rate and presumably used for stock buybacks or dividends,â€ according to a recent note from Ed Yardeni, president of Yardeni Research.  \"\n",
        "print(predict_news(sample))"
      ],
      "metadata": {
        "colab": {
          "base_uri": "https://localhost:8080/"
        },
        "id": "XjHOF2rta3sk",
        "outputId": "be380f24-6b24-4605-d389-eecd31bae758"
      },
      "execution_count": null,
      "outputs": [
        {
          "output_type": "stream",
          "name": "stdout",
          "text": [
            "Real News 🟢\n"
          ]
        }
      ]
    },
    {
      "cell_type": "markdown",
      "source": [
        "# Web App using Streamlit"
      ],
      "metadata": {
        "id": "OtSxUjHEdJVc"
      }
    },
    {
      "cell_type": "code",
      "source": [
        "pip install streamlit"
      ],
      "metadata": {
        "id": "OcwbYSw2dksM"
      },
      "execution_count": null,
      "outputs": []
    },
    {
      "cell_type": "code",
      "source": [
        "import streamlit as st\n",
        "import joblib\n",
        "import re\n",
        "import string"
      ],
      "metadata": {
        "id": "fVDd-A_jdNZQ"
      },
      "execution_count": null,
      "outputs": []
    },
    {
      "cell_type": "code",
      "source": [
        "#Load model and vectorizer\n",
        "model = joblib.load('/content/fake_news_model.pkl')\n",
        "vectorizer = joblib.load('/content/tfidf_vectorizer.pkl')"
      ],
      "metadata": {
        "id": "boX60eU1dtOw"
      },
      "execution_count": null,
      "outputs": []
    },
    {
      "cell_type": "code",
      "source": [
        "#PreProcessing for the model\n",
        "def preprocess_text(text):\n",
        "  #lowercase everything\n",
        "  text = text.lower()\n",
        "  #Remove URLS\n",
        "  text = re.sub(r'http\\S+|www.\\S+','',text)\n",
        "  #Remove HTML tags\n",
        "  text = re.sub(r'<.*?>', '', text)\n",
        "  #Remove punctuations and digits\n",
        "  text = re.sub(r'[^a-z\\s]', '', text)\n",
        "  #Tokenize\n",
        "  tokens = nltk.word_tokenize(text)\n",
        "  #Remove stop words and lemmatize\n",
        "  clean_tokens = [lemmatizer.lemmatize(word)\n",
        "                  for word in tokens\n",
        "                  if word not in stop_words]\n",
        "  return ' '.join(clean_tokens)"
      ],
      "metadata": {
        "id": "Kd7r2p9AduO0"
      },
      "execution_count": null,
      "outputs": []
    },
    {
      "cell_type": "code",
      "source": [
        "#Define Prediction Function\n",
        "def predict_news(news_text):\n",
        "    # Step 1: Preprocess the input\n",
        "    cleaned_text = preprocess_text(news_text) # output of preprocess_text is stored in cleaned_text\n",
        "    # Step 2: Transform with TF-IDF\n",
        "    vector = vectorizer.transform([cleaned_text]) # Pass cleaned_text to vectorizer.transform()\n",
        "    # Step 3: Predict with model\n",
        "    prediction = model.predict(vector)\n",
        "    # Step 4: Return result\n",
        "    if prediction[0] == 0:\n",
        "        return \"Real News 🟢\"\n",
        "    else:\n",
        "        return \"Fake News 🔴\""
      ],
      "metadata": {
        "id": "abWClIvzdx-D"
      },
      "execution_count": null,
      "outputs": []
    },
    {
      "cell_type": "code",
      "source": [
        "#SteeamLit UI\n",
        "st.title(\"📰 Fake News Detection App\")\n",
        "st.write(\"Enter a news article or headline below:\")"
      ],
      "metadata": {
        "id": "OZxEj2RTdzXE"
      },
      "execution_count": null,
      "outputs": []
    },
    {
      "cell_type": "code",
      "source": [
        "user_input = st.text_area(\"News Text\")\n",
        "\n",
        "if st.button(\"Predict\"):\n",
        "    if user_input.strip() != \"\":\n",
        "        result = predict_news(user_input)\n",
        "        st.subheader(\"Prediction:\")\n",
        "        st.success(result)\n",
        "    else:\n",
        "        st.warning(\"Please enter some news text first.\")"
      ],
      "metadata": {
        "colab": {
          "base_uri": "https://localhost:8080/"
        },
        "id": "mAWFO6wud4fg",
        "outputId": "53c1eca6-39ae-4db0-bca4-256619ca6e0b"
      },
      "execution_count": null,
      "outputs": [
        {
          "output_type": "stream",
          "name": "stderr",
          "text": [
            "2025-05-12 07:48:40.863 Thread 'MainThread': missing ScriptRunContext! This warning can be ignored when running in bare mode.\n",
            "2025-05-12 07:48:40.865 Thread 'MainThread': missing ScriptRunContext! This warning can be ignored when running in bare mode.\n",
            "2025-05-12 07:48:40.866 Thread 'MainThread': missing ScriptRunContext! This warning can be ignored when running in bare mode.\n",
            "2025-05-12 07:48:40.867 Thread 'MainThread': missing ScriptRunContext! This warning can be ignored when running in bare mode.\n",
            "2025-05-12 07:48:40.868 Session state does not function when running a script without `streamlit run`\n",
            "2025-05-12 07:48:40.871 Thread 'MainThread': missing ScriptRunContext! This warning can be ignored when running in bare mode.\n",
            "2025-05-12 07:48:40.874 Thread 'MainThread': missing ScriptRunContext! This warning can be ignored when running in bare mode.\n",
            "2025-05-12 07:48:40.875 Thread 'MainThread': missing ScriptRunContext! This warning can be ignored when running in bare mode.\n",
            "2025-05-12 07:48:40.876 Thread 'MainThread': missing ScriptRunContext! This warning can be ignored when running in bare mode.\n",
            "2025-05-12 07:48:40.880 Thread 'MainThread': missing ScriptRunContext! This warning can be ignored when running in bare mode.\n",
            "2025-05-12 07:48:40.881 Thread 'MainThread': missing ScriptRunContext! This warning can be ignored when running in bare mode.\n",
            "2025-05-12 07:48:40.882 Thread 'MainThread': missing ScriptRunContext! This warning can be ignored when running in bare mode.\n"
          ]
        }
      ]
    },
    {
      "cell_type": "code",
      "source": [
        "streamlit run app.py"
      ],
      "metadata": {
        "id": "_W5No9AVd8Tp",
        "outputId": "32eee4f4-f2bd-4cde-ceda-c542f7211cde",
        "colab": {
          "base_uri": "https://localhost:8080/",
          "height": 106
        }
      },
      "execution_count": null,
      "outputs": [
        {
          "output_type": "error",
          "ename": "SyntaxError",
          "evalue": "invalid syntax (<ipython-input-36-718866ff34b9>, line 1)",
          "traceback": [
            "\u001b[0;36m  File \u001b[0;32m\"<ipython-input-36-718866ff34b9>\"\u001b[0;36m, line \u001b[0;32m1\u001b[0m\n\u001b[0;31m    streamlit run app.py\u001b[0m\n\u001b[0m              ^\u001b[0m\n\u001b[0;31mSyntaxError\u001b[0m\u001b[0;31m:\u001b[0m invalid syntax\n"
          ]
        }
      ]
    }
  ]
}